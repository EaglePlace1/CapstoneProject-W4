{
    "nbformat_minor": 1, 
    "cells": [
        {
            "source": "# Capstone Project - The Battle of Neighborhoods (Week 1)\n\n### Applied Data Science Capstone Project Part I - submitted by Lingjun Kong\n#### Table of contents\n\n* Introduction: Business Problem\n* Data", 
            "cell_type": "markdown", 
            "metadata": {
                "collapsed": true
            }
        }, 
        {
            "source": "## Introduction: Business Problem\n\n\n### The Issue and the Problem\n\n\n* In city Toronto of Canada, since wide spectrum of economic booming and high growth rate of population in recent years, as well the ever increasing popularity of Thai cuisine in the region because of its flavor and health benefit, a group of investors are considering an investment project on a new Thai restaurant.\n\n\n* However, as a common sense in restaurant business, a rule of thumb, that to open any kind of restaurant the most critical issue is to find a favorable location. As people in the restaurant business often emphasized on relationship to business success:\u2019location! Location! Location!\u2019. It can not be just an ordinary geographic location. So, the investors recognized that even if a good economy in general in the region, without a favourable location, this venture plan will be quite questionable. \n\n\n* In principle, a favorable location for restaurant business is essentially about having a steady and sufficient consumer base in the vicinity, and a convenience for crowd-stream, with no trouble on at the local demographic and the affordability. Enough crowd streams have to be either pass by often or living just near by. Therefore, as the top priority, a thorough market research has to kick off to discover that ideal location, it will provide a solid ground for any further considerations on this business venture.\n\n\n### Our Approach\n\n* To check out the foundemental feasibility for opening a Thai restaurant in the city of Toronto, our research team has thus bee established to explore the market reality. We decided to combine domain knowledge, common sense and data-science techniques into our approach to inquiry, explore and process the relevant qualitative and quantitative information with both strategic and implementational considerations;\n\n\n* Keeping business reality in mind, We will focus on where the most consumer streams may generally be available. Our research priority will follow a 4-tier-target strategy that is to aim at only vicinities of major shopping malls, major universities, major hospitals and high population density areas;\n\n\n* Our approach to seek the possible candidate location is similar to deal with a kind of discrete cluster problem, things matter most to us are the discrete target areas which are the centroids of our possible candidates. We will study restaurant distribution and investigate what opportunity existent within or nearby our target areas.\n", 
            "cell_type": "markdown", 
            "metadata": {}
        }, 
        {
            "source": "## Data\n\n**Based on definition of our problem and our approach, factors that will influence our decision are**:\n\n* existence of our target areas which include the major shopping malls, major universities, major hospitals, as well the high population density areas; \n\n\n* number of existing restaurants in the target areas (any type of restaurant);\n\n\n* number of and distance to Thai restaurants in the target areas;\n\n\n* city-wide population density distribution information.\n\n\n**Following data sources will be needed to extract/generate the required information**:\n\n* the addresses of the target areas will be obtained through **Google Search**, as well other relevant internet sources. *For example*, we will use Google search to find the existence and the addresses of the major shopping malls, the major universities, the major hospitals, as well the maps displaying the population density distribution patterns. The approximate central addresses for those high population desity areas will be obtained through similar approach;\n\n* the coordinates of our target areas will be obtained using **Google Maps API geocoding**, *for instance* when we need to obtain the accurate geo location data out from target areas' address information  \n\n\n* number of restaurants and their type and location in every neighborhood will be obtained using **Foursquare API**. *For example*, we will use Foursquare API to explore the vicinities of our target areas and to discover the existing restaurant businesses in the neighborhoods.  \n", 
            "cell_type": "markdown", 
            "metadata": {}
        }, 
        {
            "execution_count": null, 
            "cell_type": "code", 
            "metadata": {}, 
            "outputs": [], 
            "source": ""
        }
    ], 
    "metadata": {
        "kernelspec": {
            "display_name": "Python 3.5", 
            "name": "python3", 
            "language": "python"
        }, 
        "language_info": {
            "mimetype": "text/x-python", 
            "nbconvert_exporter": "python", 
            "version": "3.5.5", 
            "name": "python", 
            "file_extension": ".py", 
            "pygments_lexer": "ipython3", 
            "codemirror_mode": {
                "version": 3, 
                "name": "ipython"
            }
        }
    }, 
    "nbformat": 4
}